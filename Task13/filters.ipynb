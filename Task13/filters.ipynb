{
 "cells": [
  {
   "cell_type": "code",
   "execution_count": 1,
   "metadata": {},
   "outputs": [],
   "source": [
    "import pandas as pd"
   ]
  },
  {
   "cell_type": "code",
   "execution_count": 2,
   "metadata": {},
   "outputs": [],
   "source": [
    "df = pd.read_csv('C:\\\\Users\\\\aaris\\\\Desktop\\\\forinternship\\\\HSMT-Internship\\\\health_a_i.csv')"
   ]
  },
  {
   "cell_type": "code",
   "execution_count": 3,
   "metadata": {},
   "outputs": [
    {
     "data": {
      "text/html": [
       "<div>\n",
       "<style scoped>\n",
       "    .dataframe tbody tr th:only-of-type {\n",
       "        vertical-align: middle;\n",
       "    }\n",
       "\n",
       "    .dataframe tbody tr th {\n",
       "        vertical-align: top;\n",
       "    }\n",
       "\n",
       "    .dataframe thead th {\n",
       "        text-align: right;\n",
       "    }\n",
       "</style>\n",
       "<table border=\"1\" class=\"dataframe\">\n",
       "  <thead>\n",
       "    <tr style=\"text-align: right;\">\n",
       "      <th></th>\n",
       "      <th>Unnamed: 0</th>\n",
       "      <th>Data to be filtered</th>\n",
       "    </tr>\n",
       "  </thead>\n",
       "  <tbody>\n",
       "    <tr>\n",
       "      <th>0</th>\n",
       "      <td>0</td>\n",
       "      <td>[&lt;p&gt;&lt;b&gt;Brand Name&lt;/b&gt;: &lt;span&gt;D TIME SINUS&lt;/spa...</td>\n",
       "    </tr>\n",
       "    <tr>\n",
       "      <th>1</th>\n",
       "      <td>1</td>\n",
       "      <td>[&lt;p&gt;&lt;b&gt;Brand Name&lt;/b&gt;: &lt;span&gt;D-CAL&lt;/span&gt; &lt;/p&gt;...</td>\n",
       "    </tr>\n",
       "    <tr>\n",
       "      <th>2</th>\n",
       "      <td>2</td>\n",
       "      <td>[&lt;p&gt;&lt;b&gt;Brand Name&lt;/b&gt;: &lt;span&gt;D.H.E. 45&lt;/span&gt;\\...</td>\n",
       "    </tr>\n",
       "    <tr>\n",
       "      <th>3</th>\n",
       "      <td>3</td>\n",
       "      <td>[&lt;p&gt;&lt;b&gt;Brand Name&lt;/b&gt;: &lt;span&gt;Dacarbazine&lt;/span...</td>\n",
       "    </tr>\n",
       "    <tr>\n",
       "      <th>4</th>\n",
       "      <td>4</td>\n",
       "      <td>[&lt;p&gt;&lt;b&gt;Brand Name&lt;/b&gt;: &lt;span&gt;Dacogen&lt;/span&gt; &lt;m...</td>\n",
       "    </tr>\n",
       "    <tr>\n",
       "      <th>...</th>\n",
       "      <td>...</td>\n",
       "      <td>...</td>\n",
       "    </tr>\n",
       "    <tr>\n",
       "      <th>732</th>\n",
       "      <td>732</td>\n",
       "      <td>[&lt;p&gt;&lt;b&gt;Brand Name&lt;/b&gt;: &lt;span&gt;Dynarex Antifunga...</td>\n",
       "    </tr>\n",
       "    <tr>\n",
       "      <th>733</th>\n",
       "      <td>733</td>\n",
       "      <td>[&lt;p&gt;&lt;b&gt;Brand Name&lt;/b&gt;: &lt;span&gt;Dynashield&lt;/span&gt;...</td>\n",
       "    </tr>\n",
       "    <tr>\n",
       "      <th>734</th>\n",
       "      <td>734</td>\n",
       "      <td>[&lt;p&gt;&lt;b&gt;Brand Name&lt;/b&gt;: &lt;span&gt;Dynashield with D...</td>\n",
       "    </tr>\n",
       "    <tr>\n",
       "      <th>735</th>\n",
       "      <td>735</td>\n",
       "      <td>[&lt;p&gt;&lt;b&gt;Brand Name&lt;/b&gt;: &lt;span&gt;&lt;a class=\"Link\" h...</td>\n",
       "    </tr>\n",
       "    <tr>\n",
       "      <th>736</th>\n",
       "      <td>736</td>\n",
       "      <td>[&lt;p&gt;&lt;b&gt;Brand Name&lt;/b&gt;: &lt;span&gt;Dysport&lt;/span&gt; &lt;m...</td>\n",
       "    </tr>\n",
       "  </tbody>\n",
       "</table>\n",
       "<p>737 rows × 2 columns</p>\n",
       "</div>"
      ],
      "text/plain": [
       "     Unnamed: 0                                Data to be filtered\n",
       "0             0  [<p><b>Brand Name</b>: <span>D TIME SINUS</spa...\n",
       "1             1  [<p><b>Brand Name</b>: <span>D-CAL</span> </p>...\n",
       "2             2  [<p><b>Brand Name</b>: <span>D.H.E. 45</span>\\...\n",
       "3             3  [<p><b>Brand Name</b>: <span>Dacarbazine</span...\n",
       "4             4  [<p><b>Brand Name</b>: <span>Dacogen</span> <m...\n",
       "..          ...                                                ...\n",
       "732         732  [<p><b>Brand Name</b>: <span>Dynarex Antifunga...\n",
       "733         733  [<p><b>Brand Name</b>: <span>Dynashield</span>...\n",
       "734         734  [<p><b>Brand Name</b>: <span>Dynashield with D...\n",
       "735         735  [<p><b>Brand Name</b>: <span><a class=\"Link\" h...\n",
       "736         736  [<p><b>Brand Name</b>: <span>Dysport</span> <m...\n",
       "\n",
       "[737 rows x 2 columns]"
      ]
     },
     "execution_count": 3,
     "metadata": {},
     "output_type": "execute_result"
    }
   ],
   "source": [
    "df"
   ]
  },
  {
   "cell_type": "code",
   "execution_count": null,
   "metadata": {},
   "outputs": [],
   "source": [
    "for i in range(len(df)):\n",
    "    print(df.iloc[i])"
   ]
  },
  {
   "cell_type": "code",
   "execution_count": 11,
   "metadata": {},
   "outputs": [],
   "source": [
    "x = df.iloc[55].values"
   ]
  },
  {
   "cell_type": "code",
   "execution_count": 12,
   "metadata": {},
   "outputs": [
    {
     "data": {
      "text/plain": [
       "array([55,\n",
       "       '[<p><b>Brand Name</b>: <span>DAY TIME SEVERE COLD AND <a class=\"Link\" href=\"/right-care/lungs-breathing-and-respiration/cough\" target=\"_blank\">COUGH</a></span> <meta content=\"true\" itemprop=\"isProprietary\"/></p>, <p><b>Generic Name</b>: <span>ACETAMINOPHEN, DEXTROMETHORPHAN HBR AND PHENYLEPHRINE HCL</span></p>, <p><b>Drug Type</b>: HUMAN OTC DRUG</p>, <p><b>Route</b>: <span>ORAL</span></p>, <p><b>Dosage Form</b>: SYRUP</p>, <p><b>Data Current As Of</b>: 2019-09-30</p>]'],\n",
       "      dtype=object)"
      ]
     },
     "execution_count": 12,
     "metadata": {},
     "output_type": "execute_result"
    }
   ],
   "source": [
    "x"
   ]
  },
  {
   "cell_type": "code",
   "execution_count": 13,
   "metadata": {},
   "outputs": [
    {
     "data": {
      "text/plain": [
       "<function ndarray.flatten>"
      ]
     },
     "execution_count": 13,
     "metadata": {},
     "output_type": "execute_result"
    }
   ],
   "source": [
    "x"
   ]
  },
  {
   "cell_type": "code",
   "execution_count": 13,
   "metadata": {},
   "outputs": [],
   "source": [
    "x = str(x)"
   ]
  },
  {
   "cell_type": "code",
   "execution_count": 14,
   "metadata": {},
   "outputs": [],
   "source": [
    "x = x.replace('[', '')\n",
    "x = x.replace(']', '')"
   ]
  },
  {
   "cell_type": "code",
   "execution_count": null,
   "metadata": {},
   "outputs": [],
   "source": [
    "\n",
    "';\\]0\\][P'"
   ]
  },
  {
   "cell_type": "code",
   "execution_count": 15,
   "metadata": {},
   "outputs": [
    {
     "data": {
      "text/plain": [
       "'55\\n \\'<p><b>Brand Name</b>: <span>DAY TIME SEVERE COLD AND <a class=\"Link\" href=\"/right-care/lungs-breathing-and-respiration/cough\" target=\"_blank\">COUGH</a></span> <meta content=\"true\" itemprop=\"isProprietary\"/></p>, <p><b>Generic Name</b>: <span>ACETAMINOPHEN, DEXTROMETHORPHAN HBR AND PHENYLEPHRINE HCL</span></p>, <p><b>Drug Type</b>: HUMAN OTC DRUG</p>, <p><b>Route</b>: <span>ORAL</span></p>, <p><b>Dosage Form</b>: SYRUP</p>, <p><b>Data Current As Of</b>: 2019-09-30</p>\\''"
      ]
     },
     "execution_count": 15,
     "metadata": {},
     "output_type": "execute_result"
    }
   ],
   "source": [
    "x"
   ]
  },
  {
   "cell_type": "code",
   "execution_count": 16,
   "metadata": {},
   "outputs": [],
   "source": [
    "x = x.split('</p>')"
   ]
  },
  {
   "cell_type": "code",
   "execution_count": 17,
   "metadata": {},
   "outputs": [
    {
     "data": {
      "text/plain": [
       "['55\\n \\'<p><b>Brand Name</b>: <span>DAY TIME SEVERE COLD AND <a class=\"Link\" href=\"/right-care/lungs-breathing-and-respiration/cough\" target=\"_blank\">COUGH</a></span> <meta content=\"true\" itemprop=\"isProprietary\"/>',\n",
       " ', <p><b>Generic Name</b>: <span>ACETAMINOPHEN, DEXTROMETHORPHAN HBR AND PHENYLEPHRINE HCL</span>',\n",
       " ', <p><b>Drug Type</b>: HUMAN OTC DRUG',\n",
       " ', <p><b>Route</b>: <span>ORAL</span>',\n",
       " ', <p><b>Dosage Form</b>: SYRUP',\n",
       " ', <p><b>Data Current As Of</b>: 2019-09-30',\n",
       " \"'\"]"
      ]
     },
     "execution_count": 17,
     "metadata": {},
     "output_type": "execute_result"
    }
   ],
   "source": [
    "x"
   ]
  },
  {
   "cell_type": "code",
   "execution_count": 44,
   "metadata": {},
   "outputs": [
    {
     "data": {
      "text/plain": [
       "7"
      ]
     },
     "execution_count": 44,
     "metadata": {},
     "output_type": "execute_result"
    }
   ],
   "source": [
    "len(x)"
   ]
  },
  {
   "cell_type": "code",
   "execution_count": null,
   "metadata": {},
   "outputs": [],
   "source": [
    "b_name = []\n",
    "g_name = []\n",
    "drug_type = []\n",
    "route = []\n",
    "dosage_form = []\n",
    "dates = []"
   ]
  },
  {
   "cell_type": "code",
   "execution_count": 17,
   "metadata": {},
   "outputs": [
    {
     "name": "stdout",
     "output_type": "stream",
     "text": [
      "brand\n",
      "name\n",
      "type\n",
      "dosage\n",
      "date\n"
     ]
    }
   ],
   "source": [
    "for i in range(0,len(x)):\n",
    "    if '<p><b>Brand Name</b>:' in x[i]:\n",
    "        print('brand')\n",
    "    elif ' <p><b>Generic Name</b>:' in x[i]:\n",
    "        print('name')\n",
    "    elif ' <p><b>Drug Type</b>:' in x[i]:\n",
    "        print('type')\n",
    "    elif ' <p><b>Dosage Form</b>:' in x[i]:\n",
    "        print('dosage')\n",
    "    elif ' <p><b>Data Current As Of</b>:' in x[i]:\n",
    "        print('date')\n",
    "    else:\n",
    "        x[i]"
   ]
  },
  {
   "cell_type": "code",
   "execution_count": 22,
   "metadata": {},
   "outputs": [
    {
     "name": "stdout",
     "output_type": "stream",
     "text": [
      "true\n"
     ]
    }
   ],
   "source": [
    "if '<p><b>Brand Name</b>:' in x[0]:\n",
    "    print('true')"
   ]
  },
  {
   "cell_type": "code",
   "execution_count": 23,
   "metadata": {},
   "outputs": [],
   "source": [
    "temp = x[0]"
   ]
  },
  {
   "cell_type": "code",
   "execution_count": 24,
   "metadata": {},
   "outputs": [],
   "source": [
    "f = temp.split('<span>')\n",
    "g = f[1]\n",
    "g = g.split('</span>')"
   ]
  },
  {
   "cell_type": "code",
   "execution_count": 37,
   "metadata": {},
   "outputs": [],
   "source": [
    "x = g[0]"
   ]
  },
  {
   "cell_type": "code",
   "execution_count": 38,
   "metadata": {},
   "outputs": [
    {
     "data": {
      "text/plain": [
       "'DAY TIME SEVERE COLD AND <a class=\"Link\" href=\"/right-care/lungs-breathing-and-respiration/cough\" target=\"_blank\">COUGH</a>'"
      ]
     },
     "execution_count": 38,
     "metadata": {},
     "output_type": "execute_result"
    }
   ],
   "source": [
    "x"
   ]
  },
  {
   "cell_type": "code",
   "execution_count": 39,
   "metadata": {},
   "outputs": [
    {
     "name": "stdout",
     "output_type": "stream",
     "text": [
      "true\n"
     ]
    }
   ],
   "source": [
    "if '<a class=\"Link\"' in x:\n",
    "    print('true')"
   ]
  },
  {
   "cell_type": "code",
   "execution_count": 29,
   "metadata": {},
   "outputs": [],
   "source": [
    "y = x.split('>')"
   ]
  },
  {
   "cell_type": "code",
   "execution_count": 30,
   "metadata": {},
   "outputs": [],
   "source": [
    "st1 = y[0]\n",
    "st2 = y[1]"
   ]
  },
  {
   "cell_type": "code",
   "execution_count": 31,
   "metadata": {},
   "outputs": [],
   "source": [
    "n = st1.split('<a')"
   ]
  },
  {
   "cell_type": "code",
   "execution_count": 35,
   "metadata": {},
   "outputs": [],
   "source": [
    "n1 = st2.split('</a')"
   ]
  },
  {
   "cell_type": "code",
   "execution_count": 32,
   "metadata": {},
   "outputs": [
    {
     "data": {
      "text/plain": [
       "'DAY TIME SEVERE COLD AND '"
      ]
     },
     "execution_count": 32,
     "metadata": {},
     "output_type": "execute_result"
    }
   ],
   "source": [
    "n[0]"
   ]
  },
  {
   "cell_type": "code",
   "execution_count": 36,
   "metadata": {},
   "outputs": [
    {
     "data": {
      "text/plain": [
       "'COUGH'"
      ]
     },
     "execution_count": 36,
     "metadata": {},
     "output_type": "execute_result"
    }
   ],
   "source": [
    "n1[0]"
   ]
  }
 ],
 "metadata": {
  "interpreter": {
   "hash": "0905a9d49d7a4d1509eaa3d2f777c7fa50e2b766855be97027a1d26056e5020a"
  },
  "kernelspec": {
   "display_name": "Python 3.9.5 64-bit",
   "name": "python3"
  },
  "language_info": {
   "codemirror_mode": {
    "name": "ipython",
    "version": 3
   },
   "file_extension": ".py",
   "mimetype": "text/x-python",
   "name": "python",
   "nbconvert_exporter": "python",
   "pygments_lexer": "ipython3",
   "version": "3.9.5"
  },
  "orig_nbformat": 4
 },
 "nbformat": 4,
 "nbformat_minor": 2
}
