{
 "cells": [
  {
   "cell_type": "code",
   "execution_count": 1,
   "metadata": {},
   "outputs": [],
   "source": [
    "import pandas as pd"
   ]
  },
  {
   "cell_type": "code",
   "execution_count": 2,
   "metadata": {},
   "outputs": [],
   "source": [
    "df = pd.read_csv('C:\\\\Users\\\\aaris\\\\Desktop\\\\forinternship\\\\HSMT-Internship\\\\health_a_i.csv')"
   ]
  },
  {
   "cell_type": "code",
   "execution_count": 3,
   "metadata": {},
   "outputs": [
    {
     "data": {
      "text/html": [
       "<div>\n",
       "<style scoped>\n",
       "    .dataframe tbody tr th:only-of-type {\n",
       "        vertical-align: middle;\n",
       "    }\n",
       "\n",
       "    .dataframe tbody tr th {\n",
       "        vertical-align: top;\n",
       "    }\n",
       "\n",
       "    .dataframe thead th {\n",
       "        text-align: right;\n",
       "    }\n",
       "</style>\n",
       "<table border=\"1\" class=\"dataframe\">\n",
       "  <thead>\n",
       "    <tr style=\"text-align: right;\">\n",
       "      <th></th>\n",
       "      <th>Unnamed: 0</th>\n",
       "      <th>Data to be filtered</th>\n",
       "    </tr>\n",
       "  </thead>\n",
       "  <tbody>\n",
       "    <tr>\n",
       "      <th>0</th>\n",
       "      <td>0</td>\n",
       "      <td>[&lt;p&gt;&lt;b&gt;Brand Name&lt;/b&gt;: &lt;span&gt;A AND A Diaper Ra...</td>\n",
       "    </tr>\n",
       "    <tr>\n",
       "      <th>1</th>\n",
       "      <td>1</td>\n",
       "      <td>[&lt;p&gt;&lt;b&gt;Brand Name&lt;/b&gt;: &lt;span&gt;A and D&lt;/span&gt; &lt;/...</td>\n",
       "    </tr>\n",
       "    <tr>\n",
       "      <th>2</th>\n",
       "      <td>2</td>\n",
       "      <td>[&lt;p&gt;&lt;b&gt;Brand Name&lt;/b&gt;: &lt;span&gt;A and D Diaper Ra...</td>\n",
       "    </tr>\n",
       "    <tr>\n",
       "      <th>3</th>\n",
       "      <td>3</td>\n",
       "      <td>[&lt;p&gt;&lt;b&gt;Brand Name&lt;/b&gt;: &lt;span&gt;A and D plus E&lt;/s...</td>\n",
       "    </tr>\n",
       "    <tr>\n",
       "      <th>4</th>\n",
       "      <td>4</td>\n",
       "      <td>[&lt;p&gt;&lt;b&gt;Brand Name&lt;/b&gt;: &lt;span&gt;A Bit Hippy&lt;/span...</td>\n",
       "    </tr>\n",
       "    <tr>\n",
       "      <th>...</th>\n",
       "      <td>...</td>\n",
       "      <td>...</td>\n",
       "    </tr>\n",
       "    <tr>\n",
       "      <th>1051</th>\n",
       "      <td>1051</td>\n",
       "      <td>[&lt;p&gt;&lt;b&gt;Brand Name&lt;/b&gt;: &lt;span&gt;AZSTARYS&lt;/span&gt;\\n...</td>\n",
       "    </tr>\n",
       "    <tr>\n",
       "      <th>1052</th>\n",
       "      <td>1052</td>\n",
       "      <td>[&lt;p&gt;&lt;b&gt;Brand Name&lt;/b&gt;: &lt;span&gt;Aztreonam&lt;/span&gt; ...</td>\n",
       "    </tr>\n",
       "    <tr>\n",
       "      <th>1053</th>\n",
       "      <td>1053</td>\n",
       "      <td>[&lt;p&gt;&lt;b&gt;Brand Name&lt;/b&gt;: &lt;span&gt;Azulfidine&lt;/span&gt;...</td>\n",
       "    </tr>\n",
       "    <tr>\n",
       "      <th>1054</th>\n",
       "      <td>1054</td>\n",
       "      <td>[&lt;p&gt;&lt;b&gt;Brand Name&lt;/b&gt;: &lt;span&gt;Azulfidine EN-tab...</td>\n",
       "    </tr>\n",
       "    <tr>\n",
       "      <th>1055</th>\n",
       "      <td>1055</td>\n",
       "      <td>[&lt;p&gt;&lt;b&gt;Brand Name&lt;/b&gt;: &lt;span&gt;Azurette&lt;/span&gt; &lt;...</td>\n",
       "    </tr>\n",
       "  </tbody>\n",
       "</table>\n",
       "<p>1056 rows × 2 columns</p>\n",
       "</div>"
      ],
      "text/plain": [
       "      Unnamed: 0                                Data to be filtered\n",
       "0              0  [<p><b>Brand Name</b>: <span>A AND A Diaper Ra...\n",
       "1              1  [<p><b>Brand Name</b>: <span>A and D</span> </...\n",
       "2              2  [<p><b>Brand Name</b>: <span>A and D Diaper Ra...\n",
       "3              3  [<p><b>Brand Name</b>: <span>A and D plus E</s...\n",
       "4              4  [<p><b>Brand Name</b>: <span>A Bit Hippy</span...\n",
       "...          ...                                                ...\n",
       "1051        1051  [<p><b>Brand Name</b>: <span>AZSTARYS</span>\\n...\n",
       "1052        1052  [<p><b>Brand Name</b>: <span>Aztreonam</span> ...\n",
       "1053        1053  [<p><b>Brand Name</b>: <span>Azulfidine</span>...\n",
       "1054        1054  [<p><b>Brand Name</b>: <span>Azulfidine EN-tab...\n",
       "1055        1055  [<p><b>Brand Name</b>: <span>Azurette</span> <...\n",
       "\n",
       "[1056 rows x 2 columns]"
      ]
     },
     "execution_count": 3,
     "metadata": {},
     "output_type": "execute_result"
    }
   ],
   "source": [
    "df"
   ]
  },
  {
   "cell_type": "code",
   "execution_count": null,
   "metadata": {},
   "outputs": [],
   "source": [
    "for i in range(len(df)):\n",
    "    print(df.iloc[i])"
   ]
  },
  {
   "cell_type": "code",
   "execution_count": 38,
   "metadata": {},
   "outputs": [],
   "source": [
    "x = df.iloc[0].values"
   ]
  },
  {
   "cell_type": "code",
   "execution_count": 39,
   "metadata": {},
   "outputs": [
    {
     "data": {
      "text/plain": [
       "array([0,\n",
       "       '[<p><b>Brand Name</b>: <span>A AND A Diaper Rash cream</span> </p>, <p><b>Generic Name</b>: <span>DIMETHICONE AND ZINC OXIDE</span></p>, <p><b>Drug Type</b>: HUMAN OTC DRUG</p>, <p><b>Route</b>: <span>TOPICAL</span></p>, <p><b>Dosage Form</b>: CREAM</p>, <p><b>Data Current As Of</b>: 2018-10-06</p>]'],\n",
       "      dtype=object)"
      ]
     },
     "execution_count": 39,
     "metadata": {},
     "output_type": "execute_result"
    }
   ],
   "source": [
    "x"
   ]
  },
  {
   "cell_type": "code",
   "execution_count": 13,
   "metadata": {},
   "outputs": [
    {
     "data": {
      "text/plain": [
       "<function ndarray.flatten>"
      ]
     },
     "execution_count": 13,
     "metadata": {},
     "output_type": "execute_result"
    }
   ],
   "source": [
    "x"
   ]
  },
  {
   "cell_type": "code",
   "execution_count": 40,
   "metadata": {},
   "outputs": [],
   "source": [
    "x = str(x)"
   ]
  },
  {
   "cell_type": "code",
   "execution_count": 41,
   "metadata": {},
   "outputs": [],
   "source": [
    "x = x.replace('[', '')\n",
    "x = x.replace(']', '')"
   ]
  },
  {
   "cell_type": "code",
   "execution_count": null,
   "metadata": {},
   "outputs": [],
   "source": [
    "\n",
    "';\\]0\\][P'"
   ]
  },
  {
   "cell_type": "code",
   "execution_count": 37,
   "metadata": {},
   "outputs": [
    {
     "data": {
      "text/plain": [
       "[\"0\\n '\",\n",
       " \"<span>A AND A Diaper Rash cream</span> </p>, <p><b>Generic Name</b>: <span>DIMETHICONE AND ZINC OXIDE</span></p>, <p><b>Drug Type</b>: HUMAN OTC DRUG</p>, <p><b>Route</b>: <span>TOPICAL</span></p>, <p><b>Dosage Form</b>: CREAM</p>, <p><b>Data Current As Of</b>: 2018-10-06</p>'\"]"
      ]
     },
     "execution_count": 37,
     "metadata": {},
     "output_type": "execute_result"
    }
   ],
   "source": [
    "x"
   ]
  },
  {
   "cell_type": "code",
   "execution_count": 42,
   "metadata": {},
   "outputs": [],
   "source": [
    "x = x.split('</p>')"
   ]
  },
  {
   "cell_type": "code",
   "execution_count": 43,
   "metadata": {},
   "outputs": [
    {
     "data": {
      "text/plain": [
       "[\"0\\n '<p><b>Brand Name</b>: <span>A AND A Diaper Rash cream</span> \",\n",
       " ', <p><b>Generic Name</b>: <span>DIMETHICONE AND ZINC OXIDE</span>',\n",
       " ', <p><b>Drug Type</b>: HUMAN OTC DRUG',\n",
       " ', <p><b>Route</b>: <span>TOPICAL</span>',\n",
       " ', <p><b>Dosage Form</b>: CREAM',\n",
       " ', <p><b>Data Current As Of</b>: 2018-10-06',\n",
       " \"'\"]"
      ]
     },
     "execution_count": 43,
     "metadata": {},
     "output_type": "execute_result"
    }
   ],
   "source": [
    "x"
   ]
  },
  {
   "cell_type": "code",
   "execution_count": 44,
   "metadata": {},
   "outputs": [
    {
     "data": {
      "text/plain": [
       "7"
      ]
     },
     "execution_count": 44,
     "metadata": {},
     "output_type": "execute_result"
    }
   ],
   "source": [
    "len(x)"
   ]
  }
 ],
 "metadata": {
  "interpreter": {
   "hash": "0905a9d49d7a4d1509eaa3d2f777c7fa50e2b766855be97027a1d26056e5020a"
  },
  "kernelspec": {
   "display_name": "Python 3.9.5 64-bit",
   "name": "python3"
  },
  "language_info": {
   "codemirror_mode": {
    "name": "ipython",
    "version": 3
   },
   "file_extension": ".py",
   "mimetype": "text/x-python",
   "name": "python",
   "nbconvert_exporter": "python",
   "pygments_lexer": "ipython3",
   "version": "3.9.5"
  },
  "orig_nbformat": 4
 },
 "nbformat": 4,
 "nbformat_minor": 2
}
